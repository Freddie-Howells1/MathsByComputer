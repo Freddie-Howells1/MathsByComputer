{
 "cells": [
  {
   "cell_type": "markdown",
   "id": "ce77bf74-927d-4032-9f16-1efda7eb7969",
   "metadata": {},
   "source": [
    "## Section B (worth approximately 40% of the marks)\n",
    "\n",
    "## Task B1. Extensions\n",
    "**Assignment:** Using Python, write code to complete the following exercises:\n",
    "\n",
    "- Consider the variable $M$, which represents the total number of individuals ever infected over the entire course of a simulation of the stochastic SIR model (run until $I$ hits zero) - i.e. the final value of $I + R$. Plot a graph of ${\\rm Prob}(M > m)$ as a function of $m$, for the default parameter values described in Task A5 above (compute the probability by running a large number of stochastic simulations and calculating the proportion of simulations in which $M>m$). Hint: You only have to run the simulations once (rather than running multiple simulations for each value of $m$).\n",
    "- Add a vertical line to the plot marking the value of $m$ that corresponds to the (positive) solution to the \"final size equation\" described in the Lecture (note: you will have to look up an appropriate Python function to solve this equation numerically, as in Task A2 above).\n",
    "- Now instead consider the stochastic SIS model described in the paper \"Will an outbreak exceed available resources for control? Estimating the risk from invading pathogens using practical definitions of a severe epidemic\" by Thompson, Gilligan and Cunniffe (https://royalsocietypublishing.org/doi/epdf/10.1098/rsif.2020.0690). The key difference between the stochastic SIR model and the stochastic SIS model is that, in the stochastic SIS model, individuals go back into the $S$ compartment when they recover (rather than entering the $R$ compartment). Pick either the \"Final size\" or \"Duration\" definition of a severe epidemic described in that paper, and write code to reproduce the relevant figure from that article using model simulations (either Fig 4a or Fig 4b; n.b. you are only required to reproduce the solid lines in the chosen figure). Hint: You do not have to simulate the model until $I$ hits zero to make this figure - that might take a very long time. Instead, you can stop each simulation as soon as the relevant maximum value on the x-axis is exceeded (or when $I$ hits zero, if that occurs first).\n",
    "- Most of this Assignment involved using deterministic and stochastic versions of the basic SIR model. However, the SIR model is quite simple and does not include some important features that affect transmission of pathogens in the real world. Do some research into ways that the SIR model can be extended to include additional real-world realism. Write one or two paragraphs to summarise your findings (including noting some pathogens/diseases for which the extensions that you explain are appropriate).\n",
    "\n",
    "*Insert code and markdown cells below, as appropriate, in which to provide your response to this task.*\n",
    "\n",
    "\n",
    "---"
   ]
  },
  {
   "cell_type": "code",
   "execution_count": null,
   "id": "f88e4acf-62a5-4e44-ab23-baa947fc4ef1",
   "metadata": {},
   "outputs": [],
   "source": []
  }
 ],
 "metadata": {
  "kernelspec": {
   "display_name": "Python 3 (ipykernel)",
   "language": "python",
   "name": "python3"
  },
  "language_info": {
   "codemirror_mode": {
    "name": "ipython",
    "version": 3
   },
   "file_extension": ".py",
   "mimetype": "text/x-python",
   "name": "python",
   "nbconvert_exporter": "python",
   "pygments_lexer": "ipython3",
   "version": "3.10.6"
  }
 },
 "nbformat": 4,
 "nbformat_minor": 5
}
