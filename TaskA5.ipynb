{
 "cells": [
  {
   "cell_type": "markdown",
   "id": "73e5d004-9358-44b0-bb41-d5fcb2b8d3a0",
   "metadata": {},
   "source": [
    "## Task A5. The probability of a major outbreak (worth approximately 12% of the marks)\n",
    "\n",
    "**Assignment:** Run 1000 simulations of the stochastic SIR model, starting from a single infected individual (with the remainder of the population susceptible). Count the number of simulations in which the final value of $I+R$ exceeds 10 (i.e. the number for which $R>10$ when $I$ hits zero), and compare this to the analytic estimate for the \"probability of a major outbreak\" described in the Lecture.\n",
    "\n",
    "Details: \n",
    "- Use the following parameter values for the baseline case (where time is again measured in days): $\\beta = 3 \\times 10^{-4}$, $\\mu = 0.1$, $N = 10^{3}$.\n",
    "- Recall from the lecture that the analytic estimate for the probability of a major outbreak is $p = 1 - \\frac{1}{R_0}$, where $R_0 = \\frac{\\beta N}{\\mu}$.\n",
    "- Run 1000 simulations of the stochastic SIR model. Calculate (and print) the proportion of simulations in which the final value of $I+R$ exceeds 10.\n",
    "- Calculate and print the analogous analytic estimate for the probability of a major outbreak.\n",
    "\n",
    "- Hint: To run 1000 simulations of the stochastic SIR model, you will need to use a FOR loop. To run the simulations more quickly, you do not have to store the values of $t$, $S$, $I$ and $R$ after every event (instead, simply store the value of $I + R$ at the end of the simulation).\n",
    "\n",
    "*Insert code and markdown cells below, as appropriate, in which to provide your response to this task.*\n",
    "\n",
    "---"
   ]
  },
  {
   "cell_type": "code",
   "execution_count": 14,
   "id": "40ef0d09-aaca-4b64-9aae-7ae724db823e",
   "metadata": {},
   "outputs": [
    {
     "name": "stdout",
     "output_type": "stream",
     "text": [
      "The number of times I + R > 10 was: 671\n",
      "The analytic estimate for the probability of a major outbreak is: 0.6666666666666667\n"
     ]
    }
   ],
   "source": [
    "# import libraries\n",
    "\n",
    "import numpy as np # Import NumPy library. The \"np\" bit tells Python to give NumPy the alias of np. So now we can call \"np\" rather than \"numpy\".\n",
    "import matplotlib.pyplot as plt\n",
    "\n",
    "# --- Problem setup --- #\n",
    "\n",
    "# Parameter values\n",
    "beta = 3.0*10**-4\n",
    "mu = 0.1\n",
    "N = 10**3\n",
    "\n",
    "# set a counter for the number of times I + R > 10\n",
    "I_RCount = 0\n",
    "\n",
    "# run the simulation 1000 times\n",
    "for i in range(0,1000):\n",
    "    # Set up arrays to record event times, and values of S, I and R after after each event\n",
    "    SVec = np.array([])\n",
    "    IVec = np.array([])\n",
    "    RVec = np.array([])\n",
    "    tVec = np.array([])\n",
    "    \n",
    "    # Set initial conditions and the initial time\n",
    "    S = N - 1\n",
    "    I = 1\n",
    "    R = 0\n",
    "    t = 0\n",
    "    \n",
    "    # Record initial conditions in the S, I, R and t arrays\n",
    "    SVec = np.append(SVec, S)\n",
    "    IVec = np.append(IVec, I)\n",
    "    RVec = np.append(RVec, R)\n",
    "    tVec = np.append(tVec, t)\n",
    "    \n",
    "    # --- While the outbreak is ongoing (I > 0), generate events --- #\n",
    "      \n",
    "    while I > 0:\n",
    "        \n",
    "        r1 = np.random.uniform(0, 1, 1)\n",
    "        totalRate = beta*I*S + mu*I\n",
    "        t = t - (1/totalRate)*np.log(r1)\n",
    "        \n",
    "        r2 = np.random.uniform(0, 1, 1)\n",
    "        if r2 < beta*I*S/totalRate:\n",
    "            S = S - 1\n",
    "            I = I + 1\n",
    "        else:\n",
    "            I = I - 1\n",
    "            R = R + 1\n",
    "            \n",
    "        SVec = np.append(SVec, S)\n",
    "        IVec = np.append(IVec, I)\n",
    "        RVec = np.append(RVec, R)\n",
    "        tVec = np.append(tVec, t)\n",
    "    if RVec[-1]>10:\n",
    "        I_RCount += 1\n",
    "\n",
    "# outputs the number of times I + R > 10\n",
    "print(\"The number of times I + R > 10 was:\", I_RCount)\n",
    "\n",
    "# calculate the analytic estimate for the probability of a major outbreak\n",
    "R_0 = (beta*N)/mu\n",
    "p = 1 - (1/R_0)\n",
    "\n",
    "# output the analytic estimate for the probability of a major outbreak\n",
    "print(\"The analytic estimate for the probability of a major outbreak is:\", p)"
   ]
  },
  {
   "cell_type": "code",
   "execution_count": null,
   "id": "ce422900-e735-4cb1-8909-1cf054c2def4",
   "metadata": {},
   "outputs": [],
   "source": []
  }
 ],
 "metadata": {
  "kernelspec": {
   "display_name": "Python 3 (ipykernel)",
   "language": "python",
   "name": "python3"
  },
  "language_info": {
   "codemirror_mode": {
    "name": "ipython",
    "version": 3
   },
   "file_extension": ".py",
   "mimetype": "text/x-python",
   "name": "python",
   "nbconvert_exporter": "python",
   "pygments_lexer": "ipython3",
   "version": "3.10.6"
  }
 },
 "nbformat": 4,
 "nbformat_minor": 5
}
