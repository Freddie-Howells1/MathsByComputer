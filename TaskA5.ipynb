{
 "cells": [
  {
   "cell_type": "markdown",
   "id": "73e5d004-9358-44b0-bb41-d5fcb2b8d3a0",
   "metadata": {},
   "source": [
    "## Task A5. The probability of a major outbreak (worth approximately 12% of the marks)\n",
    "\n",
    "**Assignment:** Run 1000 simulations of the stochastic SIR model, starting from a single infected individual (with the remainder of the population susceptible). Count the number of simulations in which the final value of $I+R$ exceeds 10 (i.e. the number for which $R>10$ when $I$ hits zero), and compare this to the analytic estimate for the \"probability of a major outbreak\" described in the Lecture.\n",
    "\n",
    "Details: \n",
    "- Use the following parameter values for the baseline case (where time is again measured in days): $\\beta = 3 \\times 10^{-4}$, $\\mu = 0.1$, $N = 10^{3}$.\n",
    "- Recall from the lecture that the analytic estimate for the probability of a major outbreak is $p = 1 - \\frac{1}{R_0}$, where $R_0 = \\frac{\\beta N}{\\mu}$.\n",
    "- Run 1000 simulations of the stochastic SIR model. Calculate (and print) the proportion of simulations in which the final value of $I+R$ exceeds 10.\n",
    "- Calculate and print the analogous analytic estimate for the probability of a major outbreak.\n",
    "\n",
    "- Hint: To run 1000 simulations of the stochastic SIR model, you will need to use a FOR loop. To run the simulations more quickly, you do not have to store the values of $t$, $S$, $I$ and $R$ after every event (instead, simply store the value of $I + R$ at the end of the simulation).\n",
    "\n",
    "*Insert code and markdown cells below, as appropriate, in which to provide your response to this task.*\n",
    "\n",
    "---"
   ]
  },
  {
   "cell_type": "code",
   "execution_count": null,
   "id": "40ef0d09-aaca-4b64-9aae-7ae724db823e",
   "metadata": {},
   "outputs": [],
   "source": []
  }
 ],
 "metadata": {
  "kernelspec": {
   "display_name": "Python 3 (ipykernel)",
   "language": "python",
   "name": "python3"
  },
  "language_info": {
   "codemirror_mode": {
    "name": "ipython",
    "version": 3
   },
   "file_extension": ".py",
   "mimetype": "text/x-python",
   "name": "python",
   "nbconvert_exporter": "python",
   "pygments_lexer": "ipython3",
   "version": "3.10.6"
  }
 },
 "nbformat": 4,
 "nbformat_minor": 5
}
