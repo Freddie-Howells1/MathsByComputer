{
 "cells": [
  {
   "cell_type": "markdown",
   "id": "a8dc6124-7163-4bd1-be45-676ffe25a0d4",
   "metadata": {},
   "source": [
    "## Task A1. Baseline case (worth approximately 12% of the marks)\n",
    "**Assignment:** Using Python, solve the deterministic SIR model numerically and examine the solution for one set of parameter values and one initial condition. Then, adapt the code to rerun the analysis multiple times for different infection rates.\n",
    "\n",
    "Details: \n",
    "- Use the following parameter values for the baseline case (where, throughout this Assignment, time is measured in days): $\\beta = 2 \\times 10^{-5}$, $\\mu = 0.1$, $N = 10^{4}$.\n",
    "- Initiate the numerical solution starting with 3 infected individuals, with the remainder of the population susceptible.\n",
    "- Produce two plots: a time-series showing $S(t)$, $I(t)$ and $R(t)$ and a phase plane (in the $(S,I)$ plane).\n",
    "- On both plots, indicate the point on the trajectory where $I$ reaches its maximum as black circles, and print this maximum value (when you print the value, round this value to the largest integer that is less than this value).\n",
    "- Now repeat this analysis a large number of times for different values of $\\beta$ (without generating a figure each time; so as to not generate a huge number of figures!) Plot the maximum value of $I$ as a function of $\\beta$, choosing an appropriate range of values of $\\beta$ (and sufficiently many values) to be able to see the dependence clearly.\n",
    "\n",
    "Hint: You might like to Google the appropriate NumPy function that finds the maximum value in a vector. For the last part, use a FOR loop rather than changing the value of $\\beta$ manually.\n",
    "\n",
    "Once you have completed this, you might like to help your team member who is doing Task A4 below!\n",
    "\n",
    "*Insert code and markdown cells below, as appropriate, in which to provide your response to this task.*\n",
    "\n",
    "---"
   ]
  },
  {
   "cell_type": "code",
   "execution_count": null,
   "id": "9b246c3b-38af-4ef3-8d84-0684308e0e55",
   "metadata": {},
   "outputs": [],
   "source": []
  }
 ],
 "metadata": {
  "kernelspec": {
   "display_name": "Python 3 (ipykernel)",
   "language": "python",
   "name": "python3"
  },
  "language_info": {
   "codemirror_mode": {
    "name": "ipython",
    "version": 3
   },
   "file_extension": ".py",
   "mimetype": "text/x-python",
   "name": "python",
   "nbconvert_exporter": "python",
   "pygments_lexer": "ipython3",
   "version": "3.10.6"
  }
 },
 "nbformat": 4,
 "nbformat_minor": 5
}
