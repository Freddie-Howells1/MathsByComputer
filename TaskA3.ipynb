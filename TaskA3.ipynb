{
 "cells": [
  {
   "cell_type": "markdown",
   "id": "81980b91-84c4-437d-a632-85025e04a801",
   "metadata": {},
   "source": [
    "## Task A3. The effect of social distancing (worth approximately 12% of the marks)\n",
    "\n",
    "The introduction and/or removal of social distancing can be modelled by varying the infection rate parameter, $\\beta$. In this exercise, we will use the following time-dependent infection rate parameter:\n",
    "\n",
    "$$\n",
    "\\beta(t)  = 2 \\times 10^{-7} \\text{  whenever  } t < T, \\\\\n",
    "\\beta(t)  = 1.5 \\times 10^{-7} \\text{  whenever  } T \\le t \\le T + 30, \\\\\n",
    "\\beta(t)  = 2 \\times 10^{-7} \\text{  whenever  } t > T + 30. \\\\\n",
    "$$\n",
    "\n",
    "**Assignment:** Using Python, run the deterministic SIR model for the social distancing strategy described above.\n",
    "\n",
    "Details:\n",
    "- For this task, use the values $\\mu = 0.1$, $N = 10^{6}$, and assume that the initial values of $(S,I,R)$ are $(N-5,5,0)$.\n",
    "- Run the SIR model, adapted according to the time-dependent value of $\\beta$ described above, for a value of $T = 30$ days. Plot a time-series showing $S(t)$, $I(t)$ and $R(t)$.\n",
    "- Consider a scenario in which $T$ is not necessarily 30 days, and can instead take a fixed integer value between 1 and 200 days. Write a FOR loop to identify the value of $T$ that minimises the maximum value of $I$ in the model simulation. Plot the maximum value of $I$ as a function of $T$, and print the value of $T$ that \"flattens the curve\" most.\n",
    "\n",
    "*Insert code and markdown cells below, as appropriate, in which to provide your response to this task.*\n",
    "\n",
    "---"
   ]
  },
  {
   "cell_type": "code",
   "execution_count": null,
   "id": "98a73841-623f-464b-88bb-e6692191543f",
   "metadata": {},
   "outputs": [],
   "source": []
  }
 ],
 "metadata": {
  "kernelspec": {
   "display_name": "Python 3 (ipykernel)",
   "language": "python",
   "name": "python3"
  },
  "language_info": {
   "codemirror_mode": {
    "name": "ipython",
    "version": 3
   },
   "file_extension": ".py",
   "mimetype": "text/x-python",
   "name": "python",
   "nbconvert_exporter": "python",
   "pygments_lexer": "ipython3",
   "version": "3.10.6"
  }
 },
 "nbformat": 4,
 "nbformat_minor": 5
}
