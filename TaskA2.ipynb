{
 "cells": [
  {
   "cell_type": "markdown",
   "id": "f3cf992d-f2af-44ab-9aad-667bf2bfd1df",
   "metadata": {},
   "source": [
    "## Task A2. The effect of vaccination (worth approximately 12% of the marks)\n",
    "**Assignment:** Using Python, solve the deterministic SIR model numerically for different numbers of individuals vaccinated. \n",
    "\n",
    "Details:\n",
    "- Use the following parameter values for the baseline case: $\\beta = 2 \\times 10^{-5}$, $\\mu = 0.1$, $N = 10^{4}$.\n",
    "- Assume that each simulation starts with 5 infected individuals (with the remainder of the population susceptible, other than those who have been vaccinated).\n",
    "- Assume that vaccination involves simply withdrawing susceptible individuals from the population (to a new $V$ compartment, which is different to the removed ($R$) compartment) instantaneously at the start of the numerical simulation, and that vaccination is perfectly effective.\n",
    "- Make a plot of the total number of individuals who are either infected or removed (i.e., $I+R$) after 500 days as a function of the number of vaccinated hosts. Hint: This will require running the SIR model multiple times (once for each value of the number of vaccinated individuals, $V$) using a FOR loop.\n",
    "- Add markers to the plot corresponding to the (strictly positive) numerical solution of the final size equation (explained in the Lecture and below), in which $N$ is simply reduced by $V$, for values of i) $V = 1000$; ii) $V = 2000$; iii) $V = 3000$.\n",
    "- Include a derivation of the final size equation in your answer to this task.\n",
    "\n",
    "- Hint: Recall that the final size equation is $x = N - N \\rm{exp} \\left( -\\frac{\\beta x}{\\mu} \\right)$ in a scenario without vaccination (vaccination then corresponds to reducing the value of $N$). You will have to look up an appropriate Python function to solve this equation numerically. To find the strictly positive solution (rather than the solution $x = 0$) numerically, a sufficiently large \"initial guess\" may need to be input to the relevant Python function.\n",
    "\n",
    "*Insert code and markdown cells below, as appropriate, in which to provide your response to this task.*\n",
    "\n",
    "---"
   ]
  },
  {
   "cell_type": "code",
   "execution_count": null,
   "id": "81bc0359-b4d2-4364-b6df-92855e776bf7",
   "metadata": {},
   "outputs": [],
   "source": []
  }
 ],
 "metadata": {
  "kernelspec": {
   "display_name": "Python 3 (ipykernel)",
   "language": "python",
   "name": "python3"
  },
  "language_info": {
   "codemirror_mode": {
    "name": "ipython",
    "version": 3
   },
   "file_extension": ".py",
   "mimetype": "text/x-python",
   "name": "python",
   "nbconvert_exporter": "python",
   "pygments_lexer": "ipython3",
   "version": "3.10.6"
  }
 },
 "nbformat": 4,
 "nbformat_minor": 5
}
