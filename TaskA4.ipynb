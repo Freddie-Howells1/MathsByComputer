{
 "cells": [
  {
   "cell_type": "markdown",
   "id": "fd6280bf-13fc-4fa3-b521-e03c043425fe",
   "metadata": {},
   "source": [
    "## Task A4. Comparison between the stochastic and deterministic SIR models (worth approximately 12% of the marks)\n",
    "\n",
    "**Assignment:** The end goal of this task is to run 100 simulations of the stochastic SIR model, generate a plot showing the mean value of $I(t)$ (averaged across all of the simulations) versus $t$, and then compare this output to the analogous output from the deterministic SIR model.\n",
    "\n",
    "Details: \n",
    "- We will use the following parameter values for the baseline case (where, throughout this assignment, time is measured in days): $\\beta = 3 \\times 10^{-4}$, $\\mu = 0.1$, $N = 10^{3}$.\n",
    "- In each simulation, there will be 10 individuals infected initially (with the rest of the population susceptible).\n",
    "- The most challenging part of this task is that, in each simulation, events will occur at different times. As a result, we have to write code that, for each simulation, extracts the value of $I(t)$ at a set of pre-defined values of $t$. One way to do this is to set up a vector at the beginning of the simulation containing 201 blank entries (corresponding to $t = 0, 0.5, 1, 1.5, ..., 100$), and then populate the relevant entries after each event (i.e. put the value of $I$ before the current event in all entries corresponding to times between the last event time and the current one). This vector can then be averaged across all simulations.\n",
    "- The code in the Python notebook entitled \"Epidemiology_Part_A4_with_Errors\" is a first attempt at writing such code (i.e. code that outputs a vector $I_{vals}$ with entries recording the values of $I$ at $t = 0, 0.5, 1, 1.5, ..., 100$) for a single simulation of the stochastic SIR model, but it contains three mistakes. Correct this code (and then copy the resulting code into your answer to this task in this notebook).\n",
    "- Now that you have corrected the code described above, run 100 simulations of the stochastic SIR model and plot the average values of the vector $I_{vals}$, plotted at $t = 0, 0.5, 1, 1.5, ..., 100$.\n",
    "- Finally, on the same axes, plot the analogous numerical solution of the determinstic SIR model. The team member who completed Task A1 (above) should be able to help you with this.\n",
    "\n",
    "*Insert code and markdown cells below, as appropriate, in which to provide your response to this task.*\n",
    "\n",
    "---"
   ]
  },
  {
   "cell_type": "code",
   "execution_count": null,
   "id": "7737a340-f6ce-4da6-b7d7-179b72af70d0",
   "metadata": {},
   "outputs": [],
   "source": []
  }
 ],
 "metadata": {
  "kernelspec": {
   "display_name": "Python 3 (ipykernel)",
   "language": "python",
   "name": "python3"
  },
  "language_info": {
   "codemirror_mode": {
    "name": "ipython",
    "version": 3
   },
   "file_extension": ".py",
   "mimetype": "text/x-python",
   "name": "python",
   "nbconvert_exporter": "python",
   "pygments_lexer": "ipython3",
   "version": "3.10.6"
  }
 },
 "nbformat": 4,
 "nbformat_minor": 5
}
